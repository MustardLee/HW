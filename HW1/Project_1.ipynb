{
 "cells": [
  {
   "attachments": {},
   "cell_type": "markdown",
   "metadata": {},
   "source": [
    "# Decision Analytics & Optimization HW1\n",
    "\n",
    "Team NCR"
   ]
  },
  {
   "cell_type": "code",
   "execution_count": 1,
   "metadata": {},
   "outputs": [],
   "source": [
    "import numpy as np\n",
    "import copy"
   ]
  },
  {
   "attachments": {},
   "cell_type": "markdown",
   "metadata": {},
   "source": [
    "Reference: https://www.geeksforgeeks.org/transportation-problem-set-4-vogels-approximation-method/"
   ]
  },
  {
   "cell_type": "code",
   "execution_count": 24,
   "metadata": {},
   "outputs": [],
   "source": [
    "# cost matrix\n",
    "cost = np.array([[ 92.63   , 104.03   , 145.945  , 112.42985, 107.79835, 112.1878 ],\n",
    "       [160.2    ,  93.25   , 148.875  , 113.60875, 103.44625, 111.845  ],\n",
    "       [186.696  , 122.31   , 112.31   , 135.97945, 127.76395, 133.3486 ],\n",
    "       [127.344  ,  84.84   , 122.51   ,  73.34   ,  87.8403 ,  91.0404 ],\n",
    "       [152.64   ,  95.15   , 144.725  , 107.61925,  89.15   , 106.999  ],\n",
    "       [252.784  , 162.24   , 236.36   , 177.6178 , 168.9558 , 149.24   ]])\n",
    "# capacity and demand array\n",
    "capacity = np.array([22.0, 3.7, 4.5, 47.0, 18.5, 5.0])\n",
    "demand = np.array([3.00, 2.60, 16.00, 20.00, 26.40, 11.90])"
   ]
  },
  {
   "cell_type": "code",
   "execution_count": 8,
   "metadata": {},
   "outputs": [],
   "source": [
    "nrow = len(supply)\n",
    "ncol = len(demand)"
   ]
  },
  {
   "cell_type": "code",
   "execution_count": 9,
   "metadata": {},
   "outputs": [],
   "source": [
    "rowP = []\n",
    "colP = []"
   ]
  },
  {
   "cell_type": "code",
   "execution_count": 11,
   "metadata": {},
   "outputs": [],
   "source": [
    "for i in range(nrow):\n",
    "    tmp = np.sort(cost[i])\n",
    "    rowP.append(tmp[1] - tmp[0])\n",
    "for j in range(ncol):\n",
    "    tmp = cost[:,j][np.argsort(cost[:,j])]\n",
    "    colP.append(tmp[1] - tmp[0])"
   ]
  },
  {
   "cell_type": "code",
   "execution_count": 17,
   "metadata": {},
   "outputs": [],
   "source": [
    "rowP = np.array(rowP)\n",
    "colP = np.array(colP)\n",
    "rowP[np.isnan(rowP)] = 0\n",
    "colP[np.isnan(colP)] = 0"
   ]
  },
  {
   "cell_type": "code",
   "execution_count": 18,
   "metadata": {},
   "outputs": [
    {
     "data": {
      "text/plain": [
       "array([11.4, 10.2, 10. , 11.5,  6. , 13. ])"
      ]
     },
     "execution_count": 18,
     "metadata": {},
     "output_type": "execute_result"
    }
   ],
   "source": [
    "rowP"
   ]
  },
  {
   "cell_type": "code",
   "execution_count": 19,
   "metadata": {},
   "outputs": [
    {
     "data": {
      "text/plain": [
       "array([34.71,  8.41, 10.2 , 34.28,  1.31, 15.96])"
      ]
     },
     "execution_count": 19,
     "metadata": {},
     "output_type": "execute_result"
    }
   ],
   "source": [
    "colP"
   ]
  },
  {
   "cell_type": "code",
   "execution_count": 21,
   "metadata": {},
   "outputs": [],
   "source": [
    "def VAM(cost, supply, demand):\n",
    "    _cost = copy.deepcopy(cost)\n",
    "    _supply = copy.deepcopy(supply)\n",
    "    _demand = copy.deepcopy(demand)\n",
    "    # define the length of row & column\n",
    "    nrow = len(_supply)\n",
    "    ncol = len(_demand)\n",
    "    # define an empty solution matrix\n",
    "    solution = np.zeros(shape=(nrow, ncol))\n",
    "    num_iter = 0\n",
    "    # loop the process until supply or demand runs out\n",
    "    while sum(_supply) > 0 and sum(_demand) > 0:\n",
    "        # Step 1. Find the penalty (opportunity cost) for each row and column\n",
    "        rowP = []\n",
    "        colP = []\n",
    "        # loop through each row & column\n",
    "        for i in range(nrow):\n",
    "            tmp = np.sort(_cost[i])\n",
    "            rowP.append(tmp[1] - tmp[0])\n",
    "        for j in range(ncol):\n",
    "            tmp = _cost[:,j][np.argsort(_cost[:,j])]\n",
    "            colP.append(tmp[1] - tmp[0])\n",
    "        rowP = np.array(rowP)\n",
    "        colP = np.array(colP)\n",
    "        rowP[np.isnan(rowP)] = 0\n",
    "        colP[np.isnan(colP)] = 0\n",
    "        \n",
    "        # Step 2. Decide the row/col with maximum penalty\n",
    "        # cRow and cCol are the row/col locators for the cell to be modified\n",
    "        cRow = 0\n",
    "        cCol = 0\n",
    "        if rowP.max() >= colP.max():\n",
    "            cRow = np.argmax(rowP)\n",
    "            cCol = np.argmin(_cost[cRow, :])\n",
    "        else:\n",
    "            cCol = np.argmax(colP)\n",
    "            cRow = np.argmin(_cost[:, cCol])\n",
    "        # Step 3. Allocate demand or supply to this cell\n",
    "        # If demand is greater than supply, allocate supply to the cell, and exclude the row\n",
    "        if _supply[cRow] >= _demand[cCol]:\n",
    "            solution[cRow][cCol] = _demand[cCol]\n",
    "            _supply[cRow] -= _demand[cCol]\n",
    "            _demand[cCol] = 0\n",
    "            _cost[:, cCol] = np.inf\n",
    "        # If supply is greater than demand, allocate demand to the cell, and exclude the column\n",
    "        else:\n",
    "            solution[cRow][cCol] = _supply[cRow]\n",
    "            _demand[cCol] -= _supply[cRow]\n",
    "            _supply[cRow] = 0\n",
    "            _cost[cRow, :] = np.inf\n",
    "\n",
    "        num_iter+=1\n",
    "        print('After %d iteration(s):' % num_iter)\n",
    "        print('x%d=\\n' % num_iter,solution)\n",
    "        print('d%d=\\n' % num_iter,_demand)\n",
    "        print('s%d=\\n' % num_iter,_supply)\n",
    "        print()\n",
    "    return solution"
   ]
  },
  {
   "cell_type": "code",
   "execution_count": 22,
   "metadata": {},
   "outputs": [
    {
     "name": "stdout",
     "output_type": "stream",
     "text": [
      "After 1 iteration(s):\n",
      "x1=\n",
      " [[3. 0. 0. 0. 0. 0.]\n",
      " [0. 0. 0. 0. 0. 0.]\n",
      " [0. 0. 0. 0. 0. 0.]\n",
      " [0. 0. 0. 0. 0. 0.]\n",
      " [0. 0. 0. 0. 0. 0.]\n",
      " [0. 0. 0. 0. 0. 0.]]\n",
      "d1=\n",
      " [ 0.   2.6 16.  20.  26.4 11.9]\n",
      "s1=\n",
      " [19.   3.7  4.5 47.  18.5  5. ]\n",
      "\n",
      "After 2 iteration(s):\n",
      "x2=\n",
      " [[ 3.  0.  0.  0.  0.  0.]\n",
      " [ 0.  0.  0.  0.  0.  0.]\n",
      " [ 0.  0.  0.  0.  0.  0.]\n",
      " [ 0.  0.  0. 20.  0.  0.]\n",
      " [ 0.  0.  0.  0.  0.  0.]\n",
      " [ 0.  0.  0.  0.  0.  0.]]\n",
      "d2=\n",
      " [ 0.   2.6 16.   0.  26.4 11.9]\n",
      "s2=\n",
      " [19.   3.7  4.5 27.  18.5  5. ]\n",
      "\n",
      "After 3 iteration(s):\n",
      "x3=\n",
      " [[ 3.   0.   0.   0.   0.   0. ]\n",
      " [ 0.   0.   0.   0.   0.   0. ]\n",
      " [ 0.   0.   0.   0.   0.   0. ]\n",
      " [ 0.   0.   0.  20.   0.  11.9]\n",
      " [ 0.   0.   0.   0.   0.   0. ]\n",
      " [ 0.   0.   0.   0.   0.   0. ]]\n",
      "d3=\n",
      " [ 0.   2.6 16.   0.  26.4  0. ]\n",
      "s3=\n",
      " [19.   3.7  4.5 15.1 18.5  5. ]\n",
      "\n",
      "After 4 iteration(s):\n",
      "x4=\n",
      " [[ 3.   0.   0.   0.   0.   0. ]\n",
      " [ 0.   2.6  0.   0.   0.   0. ]\n",
      " [ 0.   0.   0.   0.   0.   0. ]\n",
      " [ 0.   0.   0.  20.   0.  11.9]\n",
      " [ 0.   0.   0.   0.   0.   0. ]\n",
      " [ 0.   0.   0.   0.   0.   0. ]]\n",
      "d4=\n",
      " [ 0.   0.  16.   0.  26.4  0. ]\n",
      "s4=\n",
      " [19.   1.1  4.5 15.1 18.5  5. ]\n",
      "\n",
      "After 5 iteration(s):\n",
      "x5=\n",
      " [[ 3.   0.   0.   0.   0.   0. ]\n",
      " [ 0.   2.6  0.   0.   0.   0. ]\n",
      " [ 0.   0.   0.   0.   0.   0. ]\n",
      " [ 0.   0.   0.  20.   0.  11.9]\n",
      " [ 0.   0.   0.   0.   0.   0. ]\n",
      " [ 0.   0.   0.   0.   5.   0. ]]\n",
      "d5=\n",
      " [ 0.   0.  16.   0.  21.4  0. ]\n",
      "s5=\n",
      " [19.   1.1  4.5 15.1 18.5  0. ]\n",
      "\n",
      "After 6 iteration(s):\n",
      "x6=\n",
      " [[ 3.   0.   0.   0.   0.   0. ]\n",
      " [ 0.   2.6  0.   0.   0.   0. ]\n",
      " [ 0.   0.   0.   0.   0.   0. ]\n",
      " [ 0.   0.   0.  20.   0.  11.9]\n",
      " [ 0.   0.   0.   0.  18.5  0. ]\n",
      " [ 0.   0.   0.   0.   5.   0. ]]\n",
      "d6=\n",
      " [ 0.   0.  16.   0.   2.9  0. ]\n",
      "s6=\n",
      " [19.   1.1  4.5 15.1  0.   0. ]\n",
      "\n",
      "After 7 iteration(s):\n",
      "x7=\n",
      " [[ 3.   0.   0.   0.   0.   0. ]\n",
      " [ 0.   2.6  0.   0.   1.1  0. ]\n",
      " [ 0.   0.   0.   0.   0.   0. ]\n",
      " [ 0.   0.   0.  20.   0.  11.9]\n",
      " [ 0.   0.   0.   0.  18.5  0. ]\n",
      " [ 0.   0.   0.   0.   5.   0. ]]\n",
      "d7=\n",
      " [ 0.   0.  16.   0.   1.8  0. ]\n",
      "s7=\n",
      " [19.   0.   4.5 15.1  0.   0. ]\n",
      "\n",
      "After 8 iteration(s):\n",
      "x8=\n",
      " [[ 3.   0.   0.   0.   1.8  0. ]\n",
      " [ 0.   2.6  0.   0.   1.1  0. ]\n",
      " [ 0.   0.   0.   0.   0.   0. ]\n",
      " [ 0.   0.   0.  20.   0.  11.9]\n",
      " [ 0.   0.   0.   0.  18.5  0. ]\n",
      " [ 0.   0.   0.   0.   5.   0. ]]\n",
      "d8=\n",
      " [ 0.  0. 16.  0.  0.  0.]\n",
      "s8=\n",
      " [17.2  0.   4.5 15.1  0.   0. ]\n",
      "\n",
      "After 9 iteration(s):\n",
      "x9=\n",
      " [[ 3.   0.  16.   0.   1.8  0. ]\n",
      " [ 0.   2.6  0.   0.   1.1  0. ]\n",
      " [ 0.   0.   0.   0.   0.   0. ]\n",
      " [ 0.   0.   0.  20.   0.  11.9]\n",
      " [ 0.   0.   0.   0.  18.5  0. ]\n",
      " [ 0.   0.   0.   0.   5.   0. ]]\n",
      "d9=\n",
      " [0. 0. 0. 0. 0. 0.]\n",
      "s9=\n",
      " [ 1.2  0.   4.5 15.1  0.   0. ]\n",
      "\n"
     ]
    },
    {
     "name": "stderr",
     "output_type": "stream",
     "text": [
      "/var/folders/yg/9f0w7r7n15z1jw7jxcgcdrvc0000gn/T/ipykernel_7975/1179453249.py:22: RuntimeWarning: invalid value encountered in double_scalars\n",
      "  colP.append(tmp[1] - tmp[0])\n",
      "/var/folders/yg/9f0w7r7n15z1jw7jxcgcdrvc0000gn/T/ipykernel_7975/1179453249.py:19: RuntimeWarning: invalid value encountered in double_scalars\n",
      "  rowP.append(tmp[1] - tmp[0])\n"
     ]
    },
    {
     "data": {
      "text/plain": [
       "array([[ 3. ,  0. , 16. ,  0. ,  1.8,  0. ],\n",
       "       [ 0. ,  2.6,  0. ,  0. ,  1.1,  0. ],\n",
       "       [ 0. ,  0. ,  0. ,  0. ,  0. ,  0. ],\n",
       "       [ 0. ,  0. ,  0. , 20. ,  0. , 11.9],\n",
       "       [ 0. ,  0. ,  0. ,  0. , 18.5,  0. ],\n",
       "       [ 0. ,  0. ,  0. ,  0. ,  5. ,  0. ]])"
      ]
     },
     "execution_count": 22,
     "metadata": {},
     "output_type": "execute_result"
    }
   ],
   "source": [
    "# Q2\n",
    "# Supply is 100% capacity\n",
    "supply = capacity\n",
    "# Store & view the solution\n",
    "sol = VAM(cost, supply, demand)\n",
    "sol"
   ]
  },
  {
   "cell_type": "code",
   "execution_count": 5,
   "metadata": {},
   "outputs": [
    {
     "data": {
      "text/plain": [
       "82.07626"
      ]
     },
     "execution_count": 5,
     "metadata": {},
     "output_type": "execute_result"
    }
   ],
   "source": [
    "# Calculate the total cost\n",
    "sum(sum(sol * cost))/100"
   ]
  },
  {
   "cell_type": "code",
   "execution_count": 150,
   "metadata": {},
   "outputs": [
    {
     "name": "stderr",
     "output_type": "stream",
     "text": [
      "C:\\Users\\rochj\\AppData\\Local\\Temp\\ipykernel_45524\\576714861.py:21: RuntimeWarning: invalid value encountered in double_scalars\n",
      "  colP.append(tmp[1] - tmp[0])\n",
      "C:\\Users\\rochj\\AppData\\Local\\Temp\\ipykernel_45524\\576714861.py:18: RuntimeWarning: invalid value encountered in double_scalars\n",
      "  rowP.append(tmp[1] - tmp[0])\n"
     ]
    },
    {
     "data": {
      "text/plain": [
       "array([[ 3.   ,  0.   ,  9.82 ,  0.   ,  5.88 ,  0.   ],\n",
       "       [ 0.   ,  2.6  ,  0.   ,  0.   ,  0.545,  0.   ],\n",
       "       [ 0.   ,  0.   ,  3.825,  0.   ,  0.   ,  0.   ],\n",
       "       [ 0.   ,  0.   ,  2.355, 20.   ,  0.   , 11.9  ],\n",
       "       [ 0.   ,  0.   ,  0.   ,  0.   , 15.725,  0.   ],\n",
       "       [ 0.   ,  0.   ,  0.   ,  0.   ,  4.25 ,  0.   ]])"
      ]
     },
     "execution_count": 150,
     "metadata": {},
     "output_type": "execute_result"
    }
   ],
   "source": [
    "# Q3\n",
    "# Reduce the supply to 85% capacity and re-do the process\n",
    "supply2 = capacity * 0.85\n",
    "sol2 = VAM(cost, supply2, demand)\n",
    "sol2"
   ]
  },
  {
   "cell_type": "code",
   "execution_count": 151,
   "metadata": {},
   "outputs": [
    {
     "data": {
      "text/plain": [
       "80.320498"
      ]
     },
     "execution_count": 151,
     "metadata": {},
     "output_type": "execute_result"
    }
   ],
   "source": [
    "# New total cost with 85% capacity supply\n",
    "sum(sum(sol2 * cost))/100"
   ]
  },
  {
   "cell_type": "code",
   "execution_count": 152,
   "metadata": {},
   "outputs": [
    {
     "name": "stderr",
     "output_type": "stream",
     "text": [
      "C:\\Users\\rochj\\AppData\\Local\\Temp\\ipykernel_45524\\576714861.py:21: RuntimeWarning: invalid value encountered in double_scalars\n",
      "  colP.append(tmp[1] - tmp[0])\n",
      "C:\\Users\\rochj\\AppData\\Local\\Temp\\ipykernel_45524\\576714861.py:18: RuntimeWarning: invalid value encountered in double_scalars\n",
      "  rowP.append(tmp[1] - tmp[0])\n"
     ]
    },
    {
     "data": {
      "text/plain": [
       "array([[ 3.  ,  0.  , 12.28,  0.  ,  4.52,  0.  ],\n",
       "       [ 0.  ,  2.6 ,  0.  ,  0.  ,  0.73,  0.  ],\n",
       "       [ 0.  ,  0.  ,  0.  ,  0.  ,  0.  ,  0.  ],\n",
       "       [ 0.  ,  0.  ,  3.72, 20.  ,  0.  , 11.9 ],\n",
       "       [ 0.  ,  0.  ,  0.  ,  0.  , 16.65,  0.  ],\n",
       "       [ 0.  ,  0.  ,  0.  ,  0.  ,  4.5 ,  0.  ]])"
      ]
     },
     "execution_count": 152,
     "metadata": {},
     "output_type": "execute_result"
    }
   ],
   "source": [
    "# Q4\n",
    "# Reduce the supply of chile to 0, and use 90% capacity\n",
    "supply3 = capacity * 0.9\n",
    "supply3[2] = 0\n",
    "sol3 = VAM(cost, supply3, demand)\n",
    "sol3"
   ]
  },
  {
   "cell_type": "code",
   "execution_count": 153,
   "metadata": {},
   "outputs": [
    {
     "data": {
      "text/plain": [
       "81.259612"
      ]
     },
     "execution_count": 153,
     "metadata": {},
     "output_type": "execute_result"
    }
   ],
   "source": [
    "# Total cost\n",
    "sum(sum(sol3 * cost))/100"
   ]
  }
 ],
 "metadata": {
  "kernelspec": {
   "display_name": "Python 3.9.12 ('base')",
   "language": "python",
   "name": "python3"
  },
  "language_info": {
   "codemirror_mode": {
    "name": "ipython",
    "version": 3
   },
   "file_extension": ".py",
   "mimetype": "text/x-python",
   "name": "python",
   "nbconvert_exporter": "python",
   "pygments_lexer": "ipython3",
   "version": "3.9.12"
  },
  "orig_nbformat": 4,
  "vscode": {
   "interpreter": {
    "hash": "7e6884f9e325611246f3df9f3eb2bec739209106350d5829f2cfd205534463c8"
   }
  }
 },
 "nbformat": 4,
 "nbformat_minor": 2
}
