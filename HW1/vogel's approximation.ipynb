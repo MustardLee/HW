{
 "cells": [
  {
   "cell_type": "markdown",
   "id": "b4b702fc",
   "metadata": {},
   "source": [
    "# Vogel's approximation\n",
    "## For balanced transportation problems, where sum(s) is identical to sum(d), and s and d are already known"
   ]
  },
  {
   "cell_type": "code",
   "execution_count": 1,
   "id": "98091c5a",
   "metadata": {},
   "outputs": [],
   "source": [
    "import numpy as np\n",
    "import pandas as pd\n",
    "\n",
    "# define the initial variables\n",
    "s=np.array([40,50,60])\n",
    "d=np.array([30,20,45,55])\n",
    "\n",
    "# build the matrix to be optimized\n",
    "x=np.zeros((len(s), len(d)))\n",
    "\n",
    "# create cost matrix\n",
    "c=np.array([[9,4,6,6],\n",
    "            [10,5,7,8],\n",
    "            [4,7,3,5]])\n",
    "\n",
    "# use a large m to present an infinite large\n",
    "m=c.max()*1000"
   ]
  },
  {
   "cell_type": "code",
   "execution_count": 2,
   "id": "59f54530",
   "metadata": {},
   "outputs": [
    {
     "name": "stdout",
     "output_type": "stream",
     "text": [
      "x= [[ 0.  0.  0.  0.]\n",
      " [ 0.  0.  0.  0.]\n",
      " [30.  0.  0.  0.]]\n",
      "d= [ 0 20 45 55]\n",
      "s= [40 50 30]\n",
      "\n",
      "\n",
      "x= [[ 0.  0.  0.  0.]\n",
      " [ 0.  0.  0.  0.]\n",
      " [30.  0. 30.  0.]]\n",
      "d= [ 0 20 15 55]\n",
      "s= [40 50  0]\n",
      "\n",
      "\n",
      "x= [[ 0. 20.  0.  0.]\n",
      " [ 0.  0.  0.  0.]\n",
      " [30.  0. 30.  0.]]\n",
      "d= [ 0  0 15 55]\n",
      "s= [20 50  0]\n",
      "\n",
      "\n",
      "x= [[ 0. 20.  0. 20.]\n",
      " [ 0.  0.  0.  0.]\n",
      " [30.  0. 30.  0.]]\n",
      "d= [ 0  0 15 35]\n",
      "s= [ 0 50  0]\n",
      "\n",
      "\n",
      "x= [[ 0. 20.  0. 20.]\n",
      " [ 0.  0. 15.  0.]\n",
      " [30.  0. 30.  0.]]\n",
      "d= [ 0  0  0 35]\n",
      "s= [ 0 35  0]\n",
      "\n",
      "\n",
      "x= [[ 0. 20.  0. 20.]\n",
      " [ 0.  0. 15. 35.]\n",
      " [30.  0. 30.  0.]]\n",
      "d= [0 0 0 0]\n",
      "s= [0 0 0]\n",
      "\n",
      "\n"
     ]
    }
   ],
   "source": [
    "# start optimaization\n",
    "while sum(s)>0:\n",
    "    # exclude optimized rows and columns\n",
    "    a=np.repeat(s!=0, len(d)).reshape(c.shape)\n",
    "    b=np.repeat(d!=0, len(s)).reshape(c.shape,order=\"F\")\n",
    "    c[(a & b)!=True]=m\n",
    "\n",
    "    # calculate opportunity cost arrays\n",
    "    minc_s=np.repeat(c.min(axis=1), c.shape[1]).reshape(c.shape)\n",
    "    opcost_s=c-minc_s\n",
    "    opcost_s=np.sort(opcost_s, axis=1)\n",
    "    opcost_s=opcost_s[:,1]\n",
    "\n",
    "    minc_d=np.repeat(c.min(axis=0), c.shape[0]).reshape(c.shape,order=\"F\")\n",
    "    opcost_d=c-minc_d\n",
    "    opcost_d=np.sort(opcost_d, axis=0)\n",
    "    opcost_d=opcost_d[1,:]\n",
    "\n",
    "    # find the index of s and d to be optimized\n",
    "    maxcost=max(max(opcost_s),max(opcost_d))\n",
    "    rows=opcost_s==maxcost\n",
    "    cols=opcost_d==maxcost\n",
    "\n",
    "    index1=np.repeat(rows, c.shape[1]).reshape(c.shape)\n",
    "    index2=np.repeat(cols, c.shape[0]).reshape(c.shape,order=\"F\")\n",
    "    index=index1 | index2\n",
    "    c_index=c*index\n",
    "    ctmp=c_index+(c_index==0)*c_index.max() # replace 0 by the max number, therefore can use min() to find the minimun positive\n",
    "\n",
    "    i=np.where(ctmp==ctmp.min())[0][0]\n",
    "    j=np.where(ctmp==ctmp.min())[1][0]\n",
    "\n",
    "    # upgrade x,s,d,flag\n",
    "    x[i,j]=min(s[i],d[j])\n",
    "    s[i]=s[i]-x[i,j]\n",
    "    d[j]=d[j]-x[i,j]\n",
    "\n",
    "    # output results after each iteration\n",
    "    print(\"x=\",x)\n",
    "    print(\"d=\",d)\n",
    "    print(\"s=\",s)\n",
    "    print(\"\\n\")"
   ]
  },
  {
   "cell_type": "code",
   "execution_count": null,
   "id": "d3d3a6c6",
   "metadata": {},
   "outputs": [],
   "source": []
  }
 ],
 "metadata": {
  "kernelspec": {
   "display_name": "Python 3 (ipykernel)",
   "language": "python",
   "name": "python3"
  },
  "language_info": {
   "codemirror_mode": {
    "name": "ipython",
    "version": 3
   },
   "file_extension": ".py",
   "mimetype": "text/x-python",
   "name": "python",
   "nbconvert_exporter": "python",
   "pygments_lexer": "ipython3",
   "version": "3.9.13"
  }
 },
 "nbformat": 4,
 "nbformat_minor": 5
}
